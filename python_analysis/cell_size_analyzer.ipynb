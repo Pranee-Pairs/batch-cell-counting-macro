{
 "cells": [
  {
   "cell_type": "code",
   "execution_count": 1,
   "id": "729bfc75",
   "metadata": {},
   "outputs": [
    {
     "name": "stdout",
     "output_type": "stream",
     "text": [
      "Processing Results.csv...\n",
      "Done!\n"
     ]
    },
    {
     "data": {
      "text/plain": [
       "<Figure size 640x480 with 0 Axes>"
      ]
     },
     "metadata": {},
     "output_type": "display_data"
    }
   ],
   "source": [
    "import seaborn as sns\n",
    "import pandas as pd\n",
    "from matplotlib import pyplot as plt\n",
    "import numpy as np\n",
    "import glob\n",
    "\n",
    "csv_files = glob.glob('*.csv')\n",
    "\n",
    "# Process each file\n",
    "for filename in csv_files:\n",
    "    print(f\"Processing {filename}...\")\n",
    "    \n",
    "    # Read the file\n",
    "    data = pd.read_csv(filename)\n",
    "    areas = data['Area']\n",
    "    diameters = 2 * np.sqrt(areas/np.pi)\n",
    "    areas_bins = np.arange(np.floor(areas.min()), np.ceil(areas.max()), 10)\n",
    "    diameters_bins = np.arange(np.floor(diameters.min()), np.ceil(diameters.max()), 1)\n",
    "    \n",
    "    # Make area histogram\n",
    "    sns.histplot(areas, bins = areas_bins, color = 'black', fill = False).set(title = 'Cell Areas')\n",
    "    plt.xlabel(u'Area (\\u03bcm\\u00B2)')\n",
    "    plt.savefig(f'{filename}_areas.png', dpi = 600)\n",
    "    plt.clf()  # Clear the plot\n",
    "    \n",
    "    # Make diameter histogram\n",
    "    sns.histplot(diameters, bins = diameters_bins, color = 'black', fill = False).set(title = 'Cell Diameters')\n",
    "    plt.xlabel(u'Diameter (\\u03bcm)')\n",
    "    plt.savefig(f'{filename}_diameters.png', dpi = 600)\n",
    "    plt.clf()  # Clear the plot\n",
    "\n",
    "print(\"Done!\")"
   ]
  },
  {
   "cell_type": "code",
   "execution_count": null,
   "id": "4d61db81",
   "metadata": {},
   "outputs": [],
   "source": []
  }
 ],
 "metadata": {
  "kernelspec": {
   "display_name": "Python 3 (ipykernel)",
   "language": "python",
   "name": "python3"
  },
  "language_info": {
   "codemirror_mode": {
    "name": "ipython",
    "version": 3
   },
   "file_extension": ".py",
   "mimetype": "text/x-python",
   "name": "python",
   "nbconvert_exporter": "python",
   "pygments_lexer": "ipython3",
   "version": "3.9.13"
  }
 },
 "nbformat": 4,
 "nbformat_minor": 5
}
